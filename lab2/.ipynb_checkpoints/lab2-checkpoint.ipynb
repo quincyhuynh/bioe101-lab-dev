{
 "cells": [
  {
   "cell_type": "markdown",
   "metadata": {},
   "source": [
    "# BioE 101 Lab 2#\n",
    "\n",
    "## Objectives: ##\n",
    "\n",
    "- Learn how to program with IPython\n",
    "\n",
    "- Use IPython to plot signals in the time and frequency domain\n",
    "\n",
    "- Observe aliasing and quantization error in sampled data\n",
    "\n",
    "- Connect a microphone to your Arduino\n",
    "\n",
    "- Estimate noise and SNR from microphone recordings\n",
    "\n",
    "- Build an algorithm with IPython to distinguish you and your partner’s voice\n",
    "\n",
    "\n"
   ]
  },
  {
   "cell_type": "markdown",
   "metadata": {},
   "source": [
    "##1.  Displaying signals in time and frequency domain with Python\n",
    "\n",
    "\n",
    "### Observe a sine wave in time and frequency domains\n",
    "\n",
    "Before hooking up the function generator to the Arduino, always check the waveform with an oscilloscope to make sure the output is what you want.\n",
    "\n",
    "Using the same procedure as the end of lab 1: \n",
    "- Connect the function generator to the A0 and GND pins of the arduino and upload the send_serial.ino sketch to the Arduino board. \n",
    "- Set the sine wave to be 20 Hz with 1Vpp and 2.5V DC offset. \n",
    "    - **Any waveform is okay as long as none of the waveform dips below 0V or goes above 5V**\n",
    "- Turn on the function generator and view the serial plotter using Tools->Serial Plotter. You should see the sine wave.\n",
    "\n",
    "The Python code below is an introduction on how to use \"fft\" and \"ifft\" fucntion form \"scipy.fftpack\" to do fourier transfrom and inverse fourier transform. In the given arduino file, you already send the file to Serial after each run. Here, We import the data from Serial and do Fourier Analysis for it. After you run the Arduino file, please run the code below."
   ]
  },
  {
   "cell_type": "code",
   "execution_count": 3,
   "metadata": {
    "collapsed": true
   },
   "outputs": [],
   "source": [
    "# allows plots to be plotted right below the cell when run\n",
    "%matplotlib inline \n",
    "import serial # the library for reading from serial com ports\n",
    "import numpy as np # naming convention for numpy library\n",
    "import matplotlib.pyplot as plt # naming convention for matplotlib\n",
    "from scipy.fftpack import fft, ifft # import discrete fourier transform and its inverse"
   ]
  },
  {
   "cell_type": "markdown",
   "metadata": {},
   "source": [
    "Now, run this block below to define a sampling function that samples your data for 3 seconds (you can edit this to to sample for any arbitrary amount of time).\n",
    "\n",
    "Before running, find the serial port for your arduino. On Windows, check Device Manager and go under Ports and find the Arduino COM Port. On Macs, go to the terminal and type ls /dev/tty.\\* and look for the port corresponding to the Arduino.\n",
    "\n",
    "Also before running make sure to close the Serial monitor or plotter since that is accessing the serial port and only one program can access the serial port at a time."
   ]
  },
  {
   "cell_type": "code",
   "execution_count": 7,
   "metadata": {
    "collapsed": false
   },
   "outputs": [],
   "source": [
    "def sample_arduino():\n",
    "    device = \"COM9\" # com port of Arduino <- CHANGE THIS TO THE ONE YOU FOUND\n",
    "    baud = 115200\n",
    "    ser = serial.Serial(device, baud, timeout=10)\n",
    "\n",
    "    # \n",
    "    def read_serial_data(N):\n",
    "        raw_data = []\n",
    "        while (len(raw_data) < N+10): \n",
    "            data = ser.readline()\n",
    "            raw_data.append(data)\n",
    "        data = []\n",
    "        for i in raw_data:\n",
    "            try:\n",
    "                data.append(float(i))\n",
    "            except:\n",
    "                continue\n",
    "        return data\n",
    "    raw_data = read_serial_data(3000) # <- Adjust this line to read in more/less data\n",
    "    ser.close()\n",
    "    return raw_data\n"
   ]
  },
  {
   "cell_type": "code",
   "execution_count": 21,
   "metadata": {
    "collapsed": false,
    "scrolled": true
   },
   "outputs": [
    {
     "data": {
      "text/plain": [
       "[<matplotlib.lines.Line2D at 0x667e780>]"
      ]
     },
     "execution_count": 21,
     "metadata": {},
     "output_type": "execute_result"
    },
    {
     "data": {
      "image/png": "[encoded data removed]",
      "text/plain": [
       "<matplotlib.figure.Figure at 0x662b0b8>"
      ]
     },
     "metadata": {},
     "output_type": "display_data"
    }
   ],
   "source": [
    "signal = sample_arduino()\n",
    "plt.plot(signal[100:200]) # change the indices to zoom in/out in time"
   ]
  },
  {
   "cell_type": "code",
   "execution_count": 19,
   "metadata": {
    "collapsed": false
   },
   "outputs": [
    {
     "data": {
      "text/plain": [
       "[<matplotlib.lines.Line2D at 0x6608b70>]"
      ]
     },
     "execution_count": 19,
     "metadata": {},
     "output_type": "execute_result"
    },
    {
     "data": {
      "image/png": "[encoded data removed]",
      "text/plain": [
       "<matplotlib.figure.Figure at 0x63dec18>"
      ]
     },
     "metadata": {},
     "output_type": "display_data"
    }
   ],
   "source": [
    "dft = fft(signal)\n",
    "fs = 1000\n",
    "N = len(dft)\n",
    "freqs = [i*fs/N for i in range(N)]\n",
    "plt.plot(freqs[2:1000], np.abs(dft[2:1000])) # change the indices to zoom in/out in frequency"
   ]
  },
  {
   "cell_type": "markdown",
   "metadata": {},
   "source": [
    "### Question 5: \n",
    "What is the RMS noise voltage now? Why did it change?"
   ]
  },
  {
   "cell_type": "markdown",
   "metadata": {},
   "source": [
    "<b>Answer:<b>"
   ]
  },
  {
   "cell_type": "markdown",
   "metadata": {},
   "source": [
    "### Question 6: \n",
    "Move the positive wire around. What happens when you place it near fans or power cables behind the computer?"
   ]
  },
  {
   "cell_type": "markdown",
   "metadata": {},
   "source": [
    "<b>Answer:<b>"
   ]
  },
  {
   "cell_type": "markdown",
   "metadata": {},
   "source": [
    "### Question 7: \n",
    "Hold the positive/negative banana wires straight, parallel, and close together. Observe the RMS noise. Then spread them apart. What happens to the RMS noise? What happens when you touch the positive terminal? Why is the noise changing in these cases?"
   ]
  },
  {
   "cell_type": "markdown",
   "metadata": {},
   "source": [
    "<b>Answer:<b>"
   ]
  },
  {
   "cell_type": "markdown",
   "metadata": {
    "collapsed": true
   },
   "source": [
    "## Part 2: Microphone ##\n",
    "\n",
    "In this section, you will connect a simple microphone to your Arduino and measure noise and voice signal. You will then develop an algorithm to distinguish between your and your partner's voices.\n",
    "\n",
    "The microphones you have are known as “electret” condenser microphones.\n",
    "The sensing element can be thought of as a small capacitor that changes its\n",
    "capacitance as a function of acoustic pressure. The sensing element is then\n",
    "connected to a transistor, which converts the capacitance into a voltage signal.\n",
    "\n",
    "Transistors are active, meaning they need to be powered by an external\n",
    "voltage with a series resistor. Hence, in your microphone assemblies, there\n",
    "are several leads—two short wires (one with a resistor, one without) which\n",
    "should be connected to analog input 0+ and 0- on your MyDAQ, respectively,\n",
    "and two long wires which should be connected to +5V (red) and DGND\n",
    "(black). Check out this Wikipedia entry:\n",
    "http://en.wikipedia.org/wiki/Electret_microphone.\n",
    "\n",
    "### _Clean up later_:\n",
    "\n",
    "measure noise - measure without voice\n",
    "measure signal - measure peak amplitude of signal\n",
    "\n",
    "distinguish between you and partner's voice - compare peaks of cross correlated voice data "
   ]
  },
  {
   "cell_type": "markdown",
   "metadata": {},
   "source": [
    "### Question 8: \n",
    "What function do you think the serial resistor serves? \n",
    "Remember, the resistor is hooked up between 5V and the output signal."
   ]
  },
  {
   "cell_type": "markdown",
   "metadata": {},
   "source": [
    "<b>Answer:<b>"
   ]
  },
  {
   "cell_type": "markdown",
   "metadata": {},
   "source": [
    "### Question 9: \n",
    "What is the RMS noise voltage (in dB) with the microphone connected (without anyone talking into the microphone - make sure to connect 5V power)?"
   ]
  },
  {
   "cell_type": "markdown",
   "metadata": {},
   "source": [
    "<b>Answer:<b>"
   ]
  },
  {
   "cell_type": "markdown",
   "metadata": {},
   "source": [
    "### Question 10: \n",
    "Talk into the microphone at a comfortable level. What is the approximate RMS voltage that you generate while talking? What is your SNR (in dB)?"
   ]
  },
  {
   "cell_type": "markdown",
   "metadata": {},
   "source": [
    "<b>Answer:<b>"
   ]
  },
  {
   "cell_type": "markdown",
   "metadata": {},
   "source": [
    "<u>Processing audio signals using Python</u>\n",
    "\n",
    "Modify the Arduino code once more to sample at 10kHz. Run the plotting code again (feel free to insert cells below this and copy it if you find that more convenient) and verify that you can see signals from your micophone and that your frequency display now shows appropriate values."
   ]
  },
  {
   "cell_type": "markdown",
   "metadata": {},
   "source": [
    "### Question 11: \n",
    "Use the x-axis scale to zoom in on a very small time/voltage window of your signal, so you’re only looking at noise. Notice the quantization error. Can you estimate the voltage step size of the ADC (i.e., the voltage increment corresponding to the least significant bit)? Compare this to the RMS noise voltage of the microphone that you measured with the scope and comment on whether it is a problem or not. How many bits of noise do you have?"
   ]
  },
  {
   "cell_type": "markdown",
   "metadata": {},
   "source": [
    "<b>Answer:<b>"
   ]
  },
  {
   "cell_type": "markdown",
   "metadata": {},
   "source": [
    "### Question 14: \n",
    "Pick the best singer in your team and have that person try to hum a pure\n",
    "tone. Observe the time/frequency plots. What is the range of frequencies that you can hum? How close are these to pure tones (i.e. single frequency sinusoids)? If you’re musically inclined, try humming a scale and observing how the frequency spectrum changes."
   ]
  },
  {
   "cell_type": "markdown",
   "metadata": {},
   "source": [
    "<b>Answer:</b>"
   ]
  },
  {
   "cell_type": "markdown",
   "metadata": {},
   "source": [
    "Do you notice any differences between the spectrum of you and your\n",
    "partner’s voice? These should be particularly apparent if you have a male-female team. For the remainder of the lab, try to use SciPy's built-in functions to develop an algorithm to distinguish the two of you using the data in the frequency or time domain. The algorithm should output two Boolean values: one for each of you. There are many approaches to this, so be creative. Here are some ideas:\n",
    "\n",
    "<li><b> i. </b>Make a decision using the power and fundamental frequency, with appropriate thresholds for each. If power is over a certain amount, assume that someone is talking. If the peak frequency is above/below a certain amount select one person or the other.\n",
    "\n",
    "<li> <b>ii.</b> Record two waveforms of you and your partner saying the same thing. Store these two waveforms in a variable. Then use cross-correlation to compare the sampled waveforms with these saved waveforms. If the cross-correlation is particularly high, consider it as a match. <b>Hint:</b> You may find this documentation helpful: https://docs.scipy.org/doc/scipy/reference/generated/scipy.signal.correlate.html"
   ]
  },
  {
   "cell_type": "markdown",
   "metadata": {},
   "source": [
    "### Question 15: \n",
    "Write out your approach (even if you don’t get it to work) and insert the code in the cell below."
   ]
  },
  {
   "cell_type": "markdown",
   "metadata": {},
   "source": [
    "### Bonus Question!\n",
    "If you chose a method that involves a threshold (either on frequency\n",
    "or RMS), try varying the threshold and seeing how many times your classifier gives true/false positives and true/false negatives. Build a ROC curve for your method!"
   ]
  },
  {
   "cell_type": "code",
   "execution_count": 3,
   "metadata": {
    "collapsed": false
   },
   "outputs": [],
   "source": [
    "#Your code goes here"
   ]
  }
 ],
 "metadata": {
  "anaconda-cloud": {},
  "kernelspec": {
   "display_name": "Python 3",
   "language": "python",
   "name": "python3"
  },
  "language_info": {
   "codemirror_mode": {
    "name": "ipython",
    "version": 3
   },
   "file_extension": ".py",
   "mimetype": "text/x-python",
   "name": "python",
   "nbconvert_exporter": "python",
   "pygments_lexer": "ipython3",
   "version": "3.4.5"
  }
 },
 "nbformat": 4,
 "nbformat_minor": 0
}
