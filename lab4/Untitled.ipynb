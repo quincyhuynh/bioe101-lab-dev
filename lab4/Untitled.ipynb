{
 "cells": [
  {
   "cell_type": "code",
   "execution_count": 8,
   "metadata": {
    "collapsed": true
   },
   "outputs": [],
   "source": [
    "import numpy as np\n"
   ]
  },
  {
   "cell_type": "code",
   "execution_count": 17,
   "metadata": {
    "collapsed": false
   },
   "outputs": [
    {
     "name": "stdout",
     "output_type": "stream",
     "text": [
      "[0 0 1 1 1 0 0 1 2 0 1 0 0 0 0 0 0 0 0]\n"
     ]
    }
   ],
   "source": [
    "x = [0, 0, 1, 0,0,0,0,0,0,0]\n",
    "y = [0, 1, 0, 2,1, 0, 0, 1,1,1]\n",
    "\n",
    "print(np.correlate(x,y, 'full'))\n"
   ]
  },
  {
   "cell_type": "code",
   "execution_count": 31,
   "metadata": {
    "collapsed": false
   },
   "outputs": [
    {
     "name": "stdout",
     "output_type": "stream",
     "text": [
      "[0 0 0 1 0 2 1 0 0 1 1 1 0 0 0 0 0 0 0]\n"
     ]
    }
   ],
   "source": [
    "print(np.convolve(x,y))"
   ]
  },
  {
   "cell_type": "code",
   "execution_count": 28,
   "metadata": {
    "collapsed": false
   },
   "outputs": [
    {
     "name": "stdout",
     "output_type": "stream",
     "text": [
      "[ 7.00000000 +0.00000000e+00j -0.50000000 -3.63271264e-01j\n",
      "  3.11803399 -3.63271264e-01j -0.50000000 +1.53884177e+00j\n",
      "  0.88196601 -1.53884177e+00j -3.00000000 +1.83186799e-15j\n",
      "  0.88196601 +1.53884177e+00j -0.50000000 -1.53884177e+00j\n",
      "  3.11803399 +3.63271264e-01j -0.50000000 +3.63271264e-01j]\n",
      "[ 0.  1.  0.  2.  1.  0.  0.  1.  1.  1.]\n"
     ]
    }
   ],
   "source": [
    "X = np.fft.fft(x)\n",
    "Y = np.fft.fft(y)\n",
    "\n",
    "print(X*Y)\n",
    "print(np.roll(np.around(abs(np.fft.ifft(X*Y)), 2),-2))"
   ]
  },
  {
   "cell_type": "code",
   "execution_count": null,
   "metadata": {
    "collapsed": true
   },
   "outputs": [],
   "source": []
  }
 ],
 "metadata": {
  "kernelspec": {
   "display_name": "Python 3",
   "language": "python",
   "name": "python3"
  },
  "language_info": {
   "codemirror_mode": {
    "name": "ipython",
    "version": 3
   },
   "file_extension": ".py",
   "mimetype": "text/x-python",
   "name": "python",
   "nbconvert_exporter": "python",
   "pygments_lexer": "ipython3",
   "version": "3.4.5"
  }
 },
 "nbformat": 4,
 "nbformat_minor": 0
}
